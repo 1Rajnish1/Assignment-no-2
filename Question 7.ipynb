{
 "cells": [
  {
   "cell_type": "code",
   "execution_count": 8,
   "id": "f2bfdc3b",
   "metadata": {},
   "outputs": [
    {
     "name": "stdout",
     "output_type": "stream",
     "text": [
      "Enter the lower bound of the range: -60\n",
      "Enter the upper bound of the range: 9\n",
      "List of positive and even numbers: [2, 4, 6, 8]\n"
     ]
    }
   ],
   "source": [
    "#7.WRITE A CODE THAT TAKES A RANGE FROM A USER (UPPER AND LOWER BOUND) AND RETURNS A LIST OF POSITIVE AND EVEN NUMBERS ONLY\n",
    "\n",
    "def get_posi_even_numbers(lower, upper):\n",
    "    posi_even_numbers = []\n",
    "    for num in range(lower, upper + 1):\n",
    "        if num > 0 and num % 2 == 0:\n",
    "            posi_even_numbers.append(num)\n",
    "    return posi_even_numbers\n",
    "\n",
    "lower_bound = int(input(\"Enter the lower bound of the range: \"))\n",
    "upper_bound = int(input(\"Enter the upper bound of the range: \"))\n",
    "\n",
    "even_numbers_list = get_posi_even_numbers(lower_bound, upper_bound)\n",
    "print(\"List of positive and even numbers:\",even_numbers_list)\n"
   ]
  },
  {
   "cell_type": "code",
   "execution_count": null,
   "id": "dd6b2118",
   "metadata": {},
   "outputs": [],
   "source": []
  }
 ],
 "metadata": {
  "kernelspec": {
   "display_name": "Python 3 (ipykernel)",
   "language": "python",
   "name": "python3"
  },
  "language_info": {
   "codemirror_mode": {
    "name": "ipython",
    "version": 3
   },
   "file_extension": ".py",
   "mimetype": "text/x-python",
   "name": "python",
   "nbconvert_exporter": "python",
   "pygments_lexer": "ipython3",
   "version": "3.10.9"
  }
 },
 "nbformat": 4,
 "nbformat_minor": 5
}
