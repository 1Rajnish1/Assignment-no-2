{
 "cells": [
  {
   "cell_type": "code",
   "execution_count": 6,
   "id": "ef92c401",
   "metadata": {},
   "outputs": [
    {
     "name": "stdout",
     "output_type": "stream",
     "text": [
      "Original List: [1, 2, 3, 4, 5]\n",
      "Squared List: [1, 4, 9, 16, 25]\n"
     ]
    }
   ],
   "source": [
    "#4.DEVELOP A SCRIPT WHOSE ITEMS ARE SQUARES OF THE ORIGINAL LIST\n",
    "\n",
    "def square_list(numbers):\n",
    "    squared_list = [x ** 2 for x in numbers] #list comprehension\n",
    "    return squared_list\n",
    "\n",
    "original_list = [1, 2, 3, 4, 5]\n",
    "squared_numbers = square_list(original_list)\n",
    "\n",
    "print(\"Original List:\", original_list)\n",
    "print(\"Squared List:\", squared_values)\n"
   ]
  },
  {
   "cell_type": "code",
   "execution_count": null,
   "id": "d69bac63",
   "metadata": {},
   "outputs": [],
   "source": []
  }
 ],
 "metadata": {
  "kernelspec": {
   "display_name": "Python 3 (ipykernel)",
   "language": "python",
   "name": "python3"
  },
  "language_info": {
   "codemirror_mode": {
    "name": "ipython",
    "version": 3
   },
   "file_extension": ".py",
   "mimetype": "text/x-python",
   "name": "python",
   "nbconvert_exporter": "python",
   "pygments_lexer": "ipython3",
   "version": "3.10.9"
  }
 },
 "nbformat": 4,
 "nbformat_minor": 5
}
