{
 "cells": [
  {
   "cell_type": "code",
   "execution_count": 1,
   "id": "cfb8d23c",
   "metadata": {},
   "outputs": [
    {
     "name": "stdout",
     "output_type": "stream",
     "text": [
      "Enter the number6\n",
      "Factorial  6 720\n"
     ]
    }
   ],
   "source": [
    "#Write a program which accept one number from user and return its factorial.\n",
    "\n",
    "\n",
    "def Factorial(n):\n",
    "          i=1\n",
    "          while n>0:\n",
    "                    i=i*n\n",
    "                    n=n-1\n",
    "          return i\n",
    "\n",
    "x=(int(input(\"Enter the number\")))\n",
    "print(\"Factorial \",x,Factorial(x))"
   ]
  },
  {
   "cell_type": "code",
   "execution_count": null,
   "id": "24c68612",
   "metadata": {},
   "outputs": [],
   "source": []
  }
 ],
 "metadata": {
  "kernelspec": {
   "display_name": "Python 3 (ipykernel)",
   "language": "python",
   "name": "python3"
  },
  "language_info": {
   "codemirror_mode": {
    "name": "ipython",
    "version": 3
   },
   "file_extension": ".py",
   "mimetype": "text/x-python",
   "name": "python",
   "nbconvert_exporter": "python",
   "pygments_lexer": "ipython3",
   "version": "3.10.9"
  }
 },
 "nbformat": 4,
 "nbformat_minor": 5
}
