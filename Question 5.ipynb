{
 "cells": [
  {
   "cell_type": "code",
   "execution_count": 4,
   "id": "e73a09f1",
   "metadata": {},
   "outputs": [
    {
     "name": "stdout",
     "output_type": "stream",
     "text": [
      "The square of {-20} is {400}\n",
      "The square of {-19} is {361}\n",
      "The square of {-18} is {324}\n",
      "The square of {-17} is {289}\n",
      "The square of {-16} is {256}\n",
      "The square of {-15} is {225}\n",
      "The square of {-14} is {196}\n",
      "The square of {-13} is {169}\n",
      "The square of {-12} is {144}\n",
      "The square of {-11} is {121}\n",
      "The square of {-10} is {100}\n",
      "The square of {-9} is {81}\n",
      "The square of {-8} is {64}\n",
      "The square of {-7} is {49}\n",
      "The square of {-6} is {36}\n",
      "The square of {-5} is {25}\n",
      "The square of {-4} is {16}\n",
      "The square of {-3} is {9}\n",
      "The square of {-2} is {4}\n",
      "The square of {-1} is {1}\n",
      "The square of {0} is {0}\n",
      "The square of {1} is {1}\n",
      "The square of {2} is {4}\n",
      "The square of {3} is {9}\n",
      "The square of {4} is {16}\n",
      "The square of {5} is {25}\n",
      "The square of {6} is {36}\n",
      "The square of {7} is {49}\n",
      "The square of {8} is {64}\n",
      "The square of {9} is {81}\n",
      "The square of {10} is {100}\n",
      "The square of {11} is {121}\n",
      "The square of {12} is {144}\n",
      "The square of {13} is {169}\n",
      "The square of {14} is {196}\n",
      "The square of {15} is {225}\n",
      "The square of {16} is {256}\n",
      "The square of {17} is {289}\n",
      "The square of {18} is {324}\n",
      "The square of {19} is {361}\n",
      "The square of {20} is {400}\n"
     ]
    }
   ],
   "source": [
    "#5.WRITE A FUNCTION THAT SQUARES A VARIABLE AND THEN TEST THE FUNCTION USING A LIST OF INTEGER NUMBERS RANGING FROM -20 to 20\n",
    "\n",
    "\n",
    "def square_num(x):\n",
    "    return x ** 2\n",
    "\n",
    "numbers = list(range(-20, 21))\n",
    "\n",
    "for num in numbers:\n",
    "    squared = square_number(num)\n",
    "    print(\"The square of\" ,{num}, \"is\", {squared})\n"
   ]
  },
  {
   "cell_type": "code",
   "execution_count": null,
   "id": "d0c5c311",
   "metadata": {},
   "outputs": [],
   "source": []
  }
 ],
 "metadata": {
  "kernelspec": {
   "display_name": "Python 3 (ipykernel)",
   "language": "python",
   "name": "python3"
  },
  "language_info": {
   "codemirror_mode": {
    "name": "ipython",
    "version": 3
   },
   "file_extension": ".py",
   "mimetype": "text/x-python",
   "name": "python",
   "nbconvert_exporter": "python",
   "pygments_lexer": "ipython3",
   "version": "3.10.9"
  }
 },
 "nbformat": 4,
 "nbformat_minor": 5
}
