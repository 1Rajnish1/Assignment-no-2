{
 "cells": [
  {
   "cell_type": "code",
   "execution_count": 8,
   "id": "b677097d",
   "metadata": {},
   "outputs": [
    {
     "name": "stdout",
     "output_type": "stream",
     "text": [
      "Enter the radius of the circle: 6\n",
      "Given radius  6.0\n",
      "Diameter:  12.0\n",
      "Area:  113.09733552923255\n",
      "Circumference:  37.69911184307752\n"
     ]
    }
   ],
   "source": [
    "#6.WRITE 3 FUNCTIONS THAT TAKE THE RADIUS OF A CIRCLE AND RETURN THE DIAMETER, AREA AND CIRCUMFERENCE, \n",
    "#TEST THE FUNCTION USING AN INPUT FROM A USER\n",
    "\n",
    "import math\n",
    "\n",
    "def calculate_diameter(rad):\n",
    "    return 2 * rad\n",
    "\n",
    "def calculate_area(rad):\n",
    "    return math.pi * rad ** 2\n",
    "\n",
    "def calculate_circumference(rad):\n",
    "    return 2 * math.pi * rad\n",
    "\n",
    "user_rad = float(input(\"Enter the radius of the circle: \"))\n",
    "\n",
    "diameter = calculate_diameter(user_rad)\n",
    "area = calculate_area(user_rad)\n",
    "circumference = calculate_circumference(user_rad)\n",
    "\n",
    "print(\"Given radius \" ,user_rad)\n",
    "print(f\"Diameter: \" ,diameter)\n",
    "print(f\"Area: \",area)\n",
    "print(f\"Circumference: \" , circumference)\n"
   ]
  },
  {
   "cell_type": "code",
   "execution_count": null,
   "id": "c2a90b2e",
   "metadata": {},
   "outputs": [],
   "source": []
  }
 ],
 "metadata": {
  "kernelspec": {
   "display_name": "Python 3 (ipykernel)",
   "language": "python",
   "name": "python3"
  },
  "language_info": {
   "codemirror_mode": {
    "name": "ipython",
    "version": 3
   },
   "file_extension": ".py",
   "mimetype": "text/x-python",
   "name": "python",
   "nbconvert_exporter": "python",
   "pygments_lexer": "ipython3",
   "version": "3.10.9"
  }
 },
 "nbformat": 4,
 "nbformat_minor": 5
}
