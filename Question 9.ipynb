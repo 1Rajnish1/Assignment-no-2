{
 "cells": [
  {
   "cell_type": "code",
   "execution_count": 10,
   "id": "e957ae2a",
   "metadata": {},
   "outputs": [
    {
     "name": "stdout",
     "output_type": "stream",
     "text": [
      "Addition:\n",
      " [[ 6  8]\n",
      " [10 12]]\n",
      "Subtraction:\n",
      " [[-4 -4]\n",
      " [-4 -4]]\n",
      "Transpose of Matrix 1:\n",
      " [[1 3]\n",
      " [2 4]]\n",
      "Transpose of Matrix 2:\n",
      " [[5 7]\n",
      " [6 8]]\n",
      "Element-wise Product:\n",
      " [[ 5 12]\n",
      " [21 32]]\n",
      "Dot Product:\n",
      " [[19 22]\n",
      " [43 50]]\n"
     ]
    }
   ],
   "source": [
    "import numpy as np\n",
    "\n",
    "def matrix_operations(matrix1, matrix2):\n",
    "    addition = matrix1 + matrix2\n",
    "    subtraction = matrix1 - matrix2\n",
    "    transpose_M1 = np.transpose(matrix1)\n",
    "    transpose_M2 = np.transpose(matrix2)\n",
    "    product = matrix1 * matrix2\n",
    "    dot_product = np.dot(matrix1, matrix2)\n",
    "    \n",
    "    return {\n",
    "        'addition': addition,\n",
    "        'subtraction': subtraction,\n",
    "        'transpose1': transpose_M1,\n",
    "        'transpose2': transpose_M2,\n",
    "        'element_wise_product': product,\n",
    "        'dot_product': dot_product\n",
    "    }\n",
    "\n",
    "\n",
    "matrix_a = np.array([[1, 2], [3, 4]])\n",
    "matrix_b = np.array([[5, 6], [7, 8]])\n",
    "\n",
    "result = matrix_operations(matrix_a, matrix_b)\n",
    "\n",
    "print(\"Addition:\\n\", result['addition'])\n",
    "print(\"Subtraction:\\n\", result['subtraction'])\n",
    "print(\"Transpose of Matrix 1:\\n\", result['transpose1'])\n",
    "print(\"Transpose of Matrix 2:\\n\", result['transpose2'])\n",
    "print(\"Element-wise Product:\\n\", result['element_wise_product'])\n",
    "print(\"Dot Product:\\n\", result['dot_product'])\n"
   ]
  },
  {
   "cell_type": "code",
   "execution_count": null,
   "id": "7affe80b",
   "metadata": {},
   "outputs": [],
   "source": []
  },
  {
   "cell_type": "code",
   "execution_count": null,
   "id": "ebee756d",
   "metadata": {},
   "outputs": [],
   "source": []
  }
 ],
 "metadata": {
  "kernelspec": {
   "display_name": "Python 3 (ipykernel)",
   "language": "python",
   "name": "python3"
  },
  "language_info": {
   "codemirror_mode": {
    "name": "ipython",
    "version": 3
   },
   "file_extension": ".py",
   "mimetype": "text/x-python",
   "name": "python",
   "nbconvert_exporter": "python",
   "pygments_lexer": "ipython3",
   "version": "3.10.9"
  }
 },
 "nbformat": 4,
 "nbformat_minor": 5
}
