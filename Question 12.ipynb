{
 "cells": [
  {
   "cell_type": "code",
   "execution_count": 26,
   "id": "ae7c01be",
   "metadata": {},
   "outputs": [
    {
     "name": "stdout",
     "output_type": "stream",
     "text": [
      "Enter an English word: Go\n",
      "The translation of Go in French is:  Aller\n"
     ]
    }
   ],
   "source": [
    "#DEFINE AN ENGLISH TO FRENCH TRANSLATOR FUNCTION THAT TAKES AN INPUT FROM A USER AND RETURNS THE TRANSLATION, USE ANY 5 KNOWN WORDS\n",
    "\n",
    "\n",
    "def english_to_french_translator(word):\n",
    "    translations = {\n",
    "        \"go\": \"Aller\",\n",
    "        \"apple\": \"pomme\",\n",
    "        \"come\": \"Viens\",\n",
    "        \"parrot\": \"perroquet\",\n",
    "        \"Car\": \"Voiture\"\n",
    "    }\n",
    "\n",
    "    translated_word = translations.get(word.lower(), \"word not found in dictionary\")\n",
    "    return translated_word\n",
    "\n",
    "user_input = input(\"Enter an English word: \")\n",
    "translated_word = english_to_french_translator(user_input)\n",
    "\n",
    "print(\"The translation of\",user_input, \"in French is: \",translated_word)\n"
   ]
  },
  {
   "cell_type": "code",
   "execution_count": null,
   "id": "1dc6879b",
   "metadata": {},
   "outputs": [],
   "source": []
  }
 ],
 "metadata": {
  "kernelspec": {
   "display_name": "Python 3 (ipykernel)",
   "language": "python",
   "name": "python3"
  },
  "language_info": {
   "codemirror_mode": {
    "name": "ipython",
    "version": 3
   },
   "file_extension": ".py",
   "mimetype": "text/x-python",
   "name": "python",
   "nbconvert_exporter": "python",
   "pygments_lexer": "ipython3",
   "version": "3.10.9"
  }
 },
 "nbformat": 4,
 "nbformat_minor": 5
}
