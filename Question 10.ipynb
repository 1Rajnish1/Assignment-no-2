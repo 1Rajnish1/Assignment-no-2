{
 "cells": [
  {
   "cell_type": "code",
   "execution_count": 21,
   "id": "a8c2693f",
   "metadata": {},
   "outputs": [
    {
     "name": "stdout",
     "output_type": "stream",
     "text": [
      "Enter the first number : \n",
      "Enter the second number : \n",
      "The sum of: 3 and 5 is 8.0\n"
     ]
    }
   ],
   "source": [
    "def sum(a=3, b=5):\n",
    "    return a + b\n",
    "\n",
    "\n",
    "user_input1 = input(\"Enter the first number : \")\n",
    "user_input2 = input(\"Enter the second number : \")\n",
    "\n",
    "# Use default values if no input is provided\n",
    "if user_input1 == \"\":\n",
    "    user_input1 = 3\n",
    "if user_input2 == \"\":\n",
    "    user_input2 = 5\n",
    "\n",
    "result = sum(float(user_input1),float(user_input2))\n",
    "print(\"The sum of:\" ,user_input1 ,\"and\" ,user_input2, \"is\" ,result)\n"
   ]
  },
  {
   "cell_type": "code",
   "execution_count": null,
   "id": "efc29bdd",
   "metadata": {},
   "outputs": [],
   "source": []
  },
  {
   "cell_type": "code",
   "execution_count": null,
   "id": "67e372e2",
   "metadata": {},
   "outputs": [],
   "source": []
  }
 ],
 "metadata": {
  "kernelspec": {
   "display_name": "Python 3 (ipykernel)",
   "language": "python",
   "name": "python3"
  },
  "language_info": {
   "codemirror_mode": {
    "name": "ipython",
    "version": 3
   },
   "file_extension": ".py",
   "mimetype": "text/x-python",
   "name": "python",
   "nbconvert_exporter": "python",
   "pygments_lexer": "ipython3",
   "version": "3.10.9"
  }
 },
 "nbformat": 4,
 "nbformat_minor": 5
}
