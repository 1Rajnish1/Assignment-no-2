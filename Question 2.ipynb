{
 "cells": [
  {
   "cell_type": "code",
   "execution_count": 9,
   "id": "20a0bfad",
   "metadata": {},
   "outputs": [
    {
     "name": "stdout",
     "output_type": "stream",
     "text": [
      "Enter the first number: 5\n",
      "Enter the second number: 6\n",
      "Sum : 11.0\n",
      "Product : 30.0\n"
     ]
    }
   ],
   "source": [
    "#WRITE A FUNCTION THAT TAKES 2 VARIABLE AND OBTAIN THE SUMMATION AND MULTIPLICATION, THEN TEST THE FUNCTION BY TAKING AN INPUT FROM A USER (REPEAT USING LAMBDA EXPRESSIONS)\n",
    "\n",
    "def calculation(x, y):\n",
    "    add_num = x + y\n",
    "    product_num = x * y\n",
    "    return add_num, product_num\n",
    "\n",
    "user_input1 = float(input(\"Enter the first number: \"))\n",
    "user_input2 = float(input(\"Enter the second number: \"))\n",
    "\n",
    "add_result, mul_result = calculation(user_input1, user_input2)\n",
    "print(\"Sum :\", add_result)\n",
    "print(\"Product :\" , mul_result)\n"
   ]
  },
  {
   "cell_type": "code",
   "execution_count": 12,
   "id": "e076bcb0",
   "metadata": {},
   "outputs": [
    {
     "name": "stdout",
     "output_type": "stream",
     "text": [
      "Enter the first number: 5\n",
      "Enter the second number: 6\n",
      "Sum : 11.0\n",
      "Product : 30.0\n"
     ]
    }
   ],
   "source": [
    "calculation = lambda x, y: (x + y, x * y)\n",
    "user_input1 = float(input(\"Enter the first number: \"))\n",
    "user_input2 = float(input(\"Enter the second number: \"))\n",
    "\n",
    "add_result, mul_result = calculation(user_input1, user_input2)\n",
    "print(\"Sum :\", add_result)\n",
    "print(\"Product :\" , mul_result)\n",
    "\n"
   ]
  },
  {
   "cell_type": "code",
   "execution_count": null,
   "id": "24b377ab",
   "metadata": {},
   "outputs": [],
   "source": []
  }
 ],
 "metadata": {
  "kernelspec": {
   "display_name": "Python 3 (ipykernel)",
   "language": "python",
   "name": "python3"
  },
  "language_info": {
   "codemirror_mode": {
    "name": "ipython",
    "version": 3
   },
   "file_extension": ".py",
   "mimetype": "text/x-python",
   "name": "python",
   "nbconvert_exporter": "python",
   "pygments_lexer": "ipython3",
   "version": "3.10.9"
  }
 },
 "nbformat": 4,
 "nbformat_minor": 5
}
