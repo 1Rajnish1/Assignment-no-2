{
 "cells": [
  {
   "cell_type": "code",
   "execution_count": 9,
   "id": "52f7fc10",
   "metadata": {},
   "outputs": [
    {
     "name": "stdout",
     "output_type": "stream",
     "text": [
      "Enter the minimum value : 4\n",
      "Enter the maximum value : 9\n",
      "Numbers divisible by 4 but not multiples of 3: [4, 8]\n"
     ]
    }
   ],
   "source": [
    "def check_numbers(min_value, max_value):\n",
    "    filtered_numbers = []\n",
    "    for num in range(min_value, max_value + 1):\n",
    "        if num % 4 == 0 and num % 3 != 0:\n",
    "            filtered_numbers.append(num)\n",
    "    return filtered_numbers\n",
    "\n",
    "min_range = int(input(\"Enter the minimum value : \"))\n",
    "max_range = int(input(\"Enter the maximum value : \"))\n",
    "\n",
    "divisible_numbers = check_numbers(min_range, max_range)\n",
    "print(\"Numbers divisible by 4 but not multiples of 3:\", divisible_numbers)\n"
   ]
  },
  {
   "cell_type": "code",
   "execution_count": null,
   "id": "73f3d5f5",
   "metadata": {},
   "outputs": [],
   "source": []
  }
 ],
 "metadata": {
  "kernelspec": {
   "display_name": "Python 3 (ipykernel)",
   "language": "python",
   "name": "python3"
  },
  "language_info": {
   "codemirror_mode": {
    "name": "ipython",
    "version": 3
   },
   "file_extension": ".py",
   "mimetype": "text/x-python",
   "name": "python",
   "nbconvert_exporter": "python",
   "pygments_lexer": "ipython3",
   "version": "3.10.9"
  }
 },
 "nbformat": 4,
 "nbformat_minor": 5
}
